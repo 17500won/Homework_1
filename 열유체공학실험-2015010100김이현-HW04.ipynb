{
  "nbformat": 4,
  "nbformat_minor": 0,
  "metadata": {
    "colab": {
      "name": "Untitled2.ipynb",
      "provenance": [],
      "include_colab_link": true
    },
    "kernelspec": {
      "name": "python3",
      "display_name": "Python 3"
    }
  },
  "cells": [
    {
      "cell_type": "markdown",
      "metadata": {
        "id": "view-in-github",
        "colab_type": "text"
      },
      "source": [
        "<a href=\"https://colab.research.google.com/github/17500won/Homework_1/blob/master/%EC%97%B4%EC%9C%A0%EC%B2%B4%EA%B3%B5%ED%95%99%EC%8B%A4%ED%97%98-2015010100-HW04.ipynb\" target=\"_parent\"><img src=\"https://colab.research.google.com/assets/colab-badge.svg\" alt=\"Open In Colab\"/></a>"
      ]
    },
    {
      "cell_type": "code",
      "metadata": {
        "id": "aWPtGfrlcj-x",
        "colab_type": "code",
        "colab": {
          "base_uri": "https://localhost:8080/",
          "height": 215
        },
        "outputId": "f74dcfdb-2bbd-4215-9620-321d9dc3bbf6"
      },
      "source": [
        "def ggdan(x):\n",
        "     for i in range(1,10):\n",
        "         x = int(x)\n",
        "         m = x * i\n",
        "         print(x, ' * ', i, ' = ', m)\n",
        "\n",
        "if __name__ == '__main__':     \n",
        "    y =  input('For what integer? : ')\n",
        "    y = float(y)\n",
        "\n",
        "    if y > 0 and y.is_integer():\n",
        "        ggdan(y)   \n",
        "\n",
        "    else:\n",
        "        print('Insert Positive integer')\n",
        "\n",
        "%timeit ggdan"
      ],
      "execution_count": 24,
      "outputs": [
        {
          "output_type": "stream",
          "text": [
            "For what integer? : 3\n",
            "3  *  1  =  3\n",
            "3  *  2  =  6\n",
            "3  *  3  =  9\n",
            "3  *  4  =  12\n",
            "3  *  5  =  15\n",
            "3  *  6  =  18\n",
            "3  *  7  =  21\n",
            "3  *  8  =  24\n",
            "3  *  9  =  27\n",
            "100000000 loops, best of 3: 18.1 ns per loop\n"
          ],
          "name": "stdout"
        }
      ]
    },
    {
      "cell_type": "code",
      "metadata": {
        "id": "wYy23Ee-ckG6",
        "colab_type": "code",
        "colab": {
          "base_uri": "https://localhost:8080/",
          "height": 71
        },
        "outputId": "93c4d370-886b-4bd7-a8e8-cd8ca61a12aa"
      },
      "source": [
        "import numpy as np\n",
        "\n",
        "def ggdan(x):\n",
        "  a=np.arange(1,10,1)\n",
        "  x=int(x)\n",
        "  print(x,'*',a,'=',x*a)\n",
        "\n",
        "if __name__ == '__main__':\n",
        "  y=input('For what integer? : ')\n",
        "  y=float(y)\n",
        "  \n",
        "  if y>0 and y.is_integer():\n",
        "    ggdan(y)\n",
        "\n",
        "  else:\n",
        "    print('Insert Positive integer')\n",
        "\n",
        "%timeit ggdan"
      ],
      "execution_count": 25,
      "outputs": [
        {
          "output_type": "stream",
          "text": [
            "For what integer? : 3\n",
            "3 * [1 2 3 4 5 6 7 8 9] = [ 3  6  9 12 15 18 21 24 27]\n",
            "100000000 loops, best of 3: 18.1 ns per loop\n"
          ],
          "name": "stdout"
        }
      ]
    },
    {
      "cell_type": "code",
      "metadata": {
        "id": "0O6JoUlYckI3",
        "colab_type": "code",
        "colab": {
          "base_uri": "https://localhost:8080/",
          "height": 215
        },
        "outputId": "eb28446c-7705-46d3-8047-5fa321b05e55"
      },
      "source": [
        "import numba       \n",
        "@numba.jit(\"void(f4[:])\")\n",
        "def ggdan_jit(a):\n",
        "  for i in range(1,10):\n",
        "         a = int(a)\n",
        "         m = a * i\n",
        "         print(a, ' * ', i, ' = ', m)\n",
        "\n",
        "if __name__ == '__main__':     \n",
        "    b =  input('For what integer? : ')\n",
        "    b = float(b)\n",
        "\n",
        "    if b > 0 and b.is_integer():\n",
        "        ggdan_jit(b)     \n",
        "    else:\n",
        "        print('Insert Positive integer')\n",
        "\n",
        "%timeit ggdan_jit"
      ],
      "execution_count": 26,
      "outputs": [
        {
          "output_type": "stream",
          "text": [
            "For what integer? : 3\n",
            "3.0  *  1  =  3.0\n",
            "3.0  *  2  =  6.0\n",
            "3.0  *  3  =  9.0\n",
            "3.0  *  4  =  12.0\n",
            "3.0  *  5  =  15.0\n",
            "3.0  *  6  =  18.0\n",
            "3.0  *  7  =  21.0\n",
            "3.0  *  8  =  24.0\n",
            "3.0  *  9  =  27.0\n",
            "100000000 loops, best of 3: 20.1 ns per loop\n"
          ],
          "name": "stdout"
        }
      ]
    },
    {
      "cell_type": "code",
      "metadata": {
        "id": "ds9jBaGhckKn",
        "colab_type": "code",
        "colab": {
          "base_uri": "https://localhost:8080/",
          "height": 144
        },
        "outputId": "ea69709d-ce25-4050-c69f-40bafc31bd7b"
      },
      "source": [
        "a=int(input(\"For what integer? : \"))\n",
        "import numpy as np\n",
        "x=np.array([1, 2, 3, 4, 5, 6, 7, 8, 9])\n",
        "@numba.jit\n",
        "def ggdan(k,j):\n",
        "  return x*a\n",
        "print(ggdan(x,a))\n",
        "%timeit ggdan(x,a)\n",
        "\n",
        "!find / -iname 'libdevice'\n",
        "!find / -iname 'libnvvm.so'\n",
        "import os\n",
        "os.environ['NUMBAPRO_LIBDEVICE'] = \"/usr/local/cuda-10.0/nvvm/libdevice\"\n",
        "os.environ['NUMBAPRO_NVVM'] = \"/usr/local/cuda-10.0/nvvm/lib64/libnvvm.so\"\n",
        "\n",
        "import numpy as np\n",
        "from numba import vectorize\n",
        "\n",
        "\n",
        "a=int(input(\"Insert Positive integer\"))\n",
        "\n",
        "x=np.array([1, 2, 3, 4, 5, 6, 7, 8, 9])\n",
        "@vectorize\n",
        "def cudaa(k,j):\n",
        "  return k*j\n",
        "print(cudaa(a,x))\n",
        "%timeit cudaa(a,x)"
      ],
      "execution_count": 0,
      "outputs": [
        {
          "output_type": "stream",
          "text": [
            "For what integer? : 3\n",
            "[ 3  6  9 12 15 18 21 24 27]\n",
            "The slowest run took 18.64 times longer than the fastest. This could mean that an intermediate result is being cached.\n",
            "1000000 loops, best of 3: 655 ns per loop\n",
            "/usr/local/cuda-10.1/nvvm/libdevice\n",
            "/usr/local/cuda-10.1/nvvm/lib64/libnvvm.so\n"
          ],
          "name": "stdout"
        }
      ]
    }
  ]
}
